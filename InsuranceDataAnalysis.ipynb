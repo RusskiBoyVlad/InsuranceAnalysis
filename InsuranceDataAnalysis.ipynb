{
 "cells": [
  {
   "cell_type": "markdown",
   "id": "5bf853f7-2d06-4712-a8de-8b7771c8ca8f",
   "metadata": {},
   "source": [
    "# Setup"
   ]
  },
  {
   "cell_type": "code",
   "execution_count": 2,
   "id": "33f64e8e-0e32-408e-b23f-48b3c8e007c7",
   "metadata": {},
   "outputs": [],
   "source": [
    "import numpy as np # linear algebra\n",
    "import pandas as pd # data processing, CSV file I/O (e.g. pd.read_csv)\n",
    "import matplotlib.pyplot as plt # graphs/plotting\n",
    "import seaborn as sns"
   ]
  },
  {
   "cell_type": "code",
   "execution_count": 8,
   "id": "ca392eac-b745-4637-939f-c77b89ac09a0",
   "metadata": {},
   "outputs": [
    {
     "name": "stdout",
     "output_type": "stream",
     "text": [
      "/home/thomas/gitrepo/InsuranceAnalysis/data/freMTPLfreq.csv\n",
      "/home/thomas/gitrepo/InsuranceAnalysis/data/.ipynb_checkpoints/freMTPLfreq-checkpoint.csv\n"
     ]
    }
   ],
   "source": [
    "#Check to ensure that both CSV files are present in the right directory\n",
    "\n",
    "import os\n",
    "for dirname, _, filenames in os.walk(\"/home/thomas/gitrepo/InsuranceAnalysis/data\"):\n",
    "    for filename in filenames:\n",
    "        print(os.path.join(dirname, filename))"
   ]
  },
  {
   "cell_type": "markdown",
   "id": "8842e37c-2768-4137-85ab-242216ba9bbf",
   "metadata": {},
   "source": [
    "# Step 1: Importing the datasets into dataframes, performing a merge a join and initial exploration"
   ]
  },
  {
   "cell_type": "code",
   "execution_count": 27,
   "id": "cf5434dd-ac64-46c3-851b-e38c9e369c65",
   "metadata": {},
   "outputs": [
    {
     "data": {
      "text/plain": [
       "PolicyID  ClaimNb  Exposure  Power  CarAge  DriverAge  Brand                               Gas      Region         Density\n",
       "1         0        0.09000   g      0       46         Japanese (except Nissan) or Korean  Diesel   Aquitaine      76         1\n",
       "275444    0        1.00000   d      11      45         Renault, Nissan or Citroen          Regular  Centre         10         1\n",
       "275454    0        1.00000   e      5       32         Opel, General Motors or Ford        Regular  Centre         754        1\n",
       "275453    0        0.32000   f      3       64         Renault, Nissan or Citroen          Regular  Centre         4116       1\n",
       "275452    0        0.10000   e      2       29         Renault, Nissan or Citroen          Diesel   Centre         4116       1\n",
       "                                                                                                                             ..\n",
       "137721    0        0.60000   o      1       37         Japanese (except Nissan) or Korean  Diesel   Ile-de-France  17140      1\n",
       "137720    0        0.19000   o      1       37         Japanese (except Nissan) or Korean  Diesel   Ile-de-France  17140      1\n",
       "137719    0        0.69000   d      0       56         Japanese (except Nissan) or Korean  Regular  Ile-de-France  27000      1\n",
       "137718    0        0.10000   d      0       56         Japanese (except Nissan) or Korean  Regular  Ile-de-France  27000      1\n",
       "413169    0        0.00274   g      6       29         Japanese (except Nissan) or Korean  Diesel   Aquitaine      65         1\n",
       "Length: 413169, dtype: int64"
      ]
     },
     "execution_count": 27,
     "metadata": {},
     "output_type": "execute_result"
    }
   ],
   "source": [
    "MTPL_freq = pd.read_csv(\"data/freMTPLfreq.csv\")\n",
    "MTPL_sev = pd.read_csv(\"data/freMTPLsev.csv\")\n",
    "MTPL_freq.value_counts()"
   ]
  },
  {
   "cell_type": "code",
   "execution_count": 55,
   "id": "b6d55dd9-feec-4b19-8f31-2ce49a3ae666",
   "metadata": {},
   "outputs": [
    {
     "name": "stdout",
     "output_type": "stream",
     "text": [
      "34465077\n"
     ]
    }
   ],
   "source": [
    "#Total number of claims\n",
    "print(sum(MTPL_sev[\"ClaimAmount\"]))"
   ]
  },
  {
   "cell_type": "code",
   "execution_count": 32,
   "id": "c7d1f4be-e13d-4a58-9158-0eeec7f6366e",
   "metadata": {},
   "outputs": [
    {
     "data": {
      "text/plain": [
       "PolicyID  ClaimAmount\n",
       "43357     1169           2\n",
       "33        302            1\n",
       "250984    342            1\n",
       "250836    1159           1\n",
       "250837    1212           1\n",
       "                        ..\n",
       "110150    358            1\n",
       "110176    1758           1\n",
       "110211    1162           1\n",
       "110214    1081           1\n",
       "412944    10482          1\n",
       "Length: 16180, dtype: int64"
      ]
     },
     "execution_count": 32,
     "metadata": {},
     "output_type": "execute_result"
    }
   ],
   "source": [
    "MTPL_sev.value_counts()"
   ]
  },
  {
   "cell_type": "markdown",
   "id": "d293b55b-e1ca-435f-bd33-38c63c55810e",
   "metadata": {},
   "source": [
    "Total Amount Claimed"
   ]
  },
  {
   "cell_type": "markdown",
   "id": "203d9858-dbcd-43d0-aa93-c401f3e9a812",
   "metadata": {},
   "source": [
    "As gathered by the value_counts() function, the PolicyID variable is unique to each policy. So there can't be two policies with the same policyID. With the exception of 43357, which we will investigate"
   ]
  },
  {
   "cell_type": "code",
   "execution_count": 36,
   "id": "39578723-9f71-4dd0-a98f-62dc47c142b5",
   "metadata": {},
   "outputs": [
    {
     "data": {
      "text/html": [
       "<div>\n",
       "<style scoped>\n",
       "    .dataframe tbody tr th:only-of-type {\n",
       "        vertical-align: middle;\n",
       "    }\n",
       "\n",
       "    .dataframe tbody tr th {\n",
       "        vertical-align: top;\n",
       "    }\n",
       "\n",
       "    .dataframe thead th {\n",
       "        text-align: right;\n",
       "    }\n",
       "</style>\n",
       "<table border=\"1\" class=\"dataframe\">\n",
       "  <thead>\n",
       "    <tr style=\"text-align: right;\">\n",
       "      <th></th>\n",
       "      <th>PolicyID</th>\n",
       "      <th>ClaimAmount</th>\n",
       "    </tr>\n",
       "  </thead>\n",
       "  <tbody>\n",
       "    <tr>\n",
       "      <th>2455</th>\n",
       "      <td>43357</td>\n",
       "      <td>1169</td>\n",
       "    </tr>\n",
       "    <tr>\n",
       "      <th>2491</th>\n",
       "      <td>43357</td>\n",
       "      <td>1169</td>\n",
       "    </tr>\n",
       "  </tbody>\n",
       "</table>\n",
       "</div>"
      ],
      "text/plain": [
       "      PolicyID  ClaimAmount\n",
       "2455     43357         1169\n",
       "2491     43357         1169"
      ]
     },
     "execution_count": 36,
     "metadata": {},
     "output_type": "execute_result"
    }
   ],
   "source": [
    "result = MTPL_sev[MTPL_sev[\"PolicyID\"] == 43357]\n",
    "result"
   ]
  },
  {
   "cell_type": "markdown",
   "id": "855f9001-bcbe-44d2-89b1-1fe38fedf70d",
   "metadata": {},
   "source": [
    "We are presented with a duplicate entry. Investigating any further occurances of duplicates"
   ]
  },
  {
   "cell_type": "code",
   "execution_count": 37,
   "id": "456d00ee-86ca-4448-abd2-835dbc704342",
   "metadata": {},
   "outputs": [
    {
     "data": {
      "text/html": [
       "<div>\n",
       "<style scoped>\n",
       "    .dataframe tbody tr th:only-of-type {\n",
       "        vertical-align: middle;\n",
       "    }\n",
       "\n",
       "    .dataframe tbody tr th {\n",
       "        vertical-align: top;\n",
       "    }\n",
       "\n",
       "    .dataframe thead th {\n",
       "        text-align: right;\n",
       "    }\n",
       "</style>\n",
       "<table border=\"1\" class=\"dataframe\">\n",
       "  <thead>\n",
       "    <tr style=\"text-align: right;\">\n",
       "      <th></th>\n",
       "      <th>PolicyID</th>\n",
       "      <th>ClaimAmount</th>\n",
       "    </tr>\n",
       "  </thead>\n",
       "  <tbody>\n",
       "    <tr>\n",
       "      <th>4</th>\n",
       "      <td>309380</td>\n",
       "      <td>55077</td>\n",
       "    </tr>\n",
       "    <tr>\n",
       "      <th>5</th>\n",
       "      <td>309380</td>\n",
       "      <td>7593</td>\n",
       "    </tr>\n",
       "    <tr>\n",
       "      <th>23</th>\n",
       "      <td>309894</td>\n",
       "      <td>1182</td>\n",
       "    </tr>\n",
       "    <tr>\n",
       "      <th>26</th>\n",
       "      <td>319926</td>\n",
       "      <td>285</td>\n",
       "    </tr>\n",
       "    <tr>\n",
       "      <th>27</th>\n",
       "      <td>319926</td>\n",
       "      <td>555</td>\n",
       "    </tr>\n",
       "    <tr>\n",
       "      <th>...</th>\n",
       "      <td>...</td>\n",
       "      <td>...</td>\n",
       "    </tr>\n",
       "    <tr>\n",
       "      <th>16118</th>\n",
       "      <td>208591</td>\n",
       "      <td>488</td>\n",
       "    </tr>\n",
       "    <tr>\n",
       "      <th>16119</th>\n",
       "      <td>217050</td>\n",
       "      <td>676</td>\n",
       "    </tr>\n",
       "    <tr>\n",
       "      <th>16139</th>\n",
       "      <td>215642</td>\n",
       "      <td>244</td>\n",
       "    </tr>\n",
       "    <tr>\n",
       "      <th>16172</th>\n",
       "      <td>304172</td>\n",
       "      <td>281</td>\n",
       "    </tr>\n",
       "    <tr>\n",
       "      <th>16173</th>\n",
       "      <td>304172</td>\n",
       "      <td>576</td>\n",
       "    </tr>\n",
       "  </tbody>\n",
       "</table>\n",
       "<p>1548 rows × 2 columns</p>\n",
       "</div>"
      ],
      "text/plain": [
       "       PolicyID  ClaimAmount\n",
       "4        309380        55077\n",
       "5        309380         7593\n",
       "23       309894         1182\n",
       "26       319926          285\n",
       "27       319926          555\n",
       "...         ...          ...\n",
       "16118    208591          488\n",
       "16119    217050          676\n",
       "16139    215642          244\n",
       "16172    304172          281\n",
       "16173    304172          576\n",
       "\n",
       "[1548 rows x 2 columns]"
      ]
     },
     "execution_count": 37,
     "metadata": {},
     "output_type": "execute_result"
    }
   ],
   "source": [
    "duplicates_sev = MTPL_sev[MTPL_sev.duplicated([\"PolicyID\"], keep =False)]\n",
    "duplicates_sev"
   ]
  },
  {
   "cell_type": "markdown",
   "id": "136dd705-7f07-47e3-a81f-f0df4bf5f848",
   "metadata": {},
   "source": [
    "1548 occurances of duplicates inside MTPL_sev. We don't want duplicates in our analysis, so We will use the groupby/aggregate function in the next step to get rid of the duplicate entries"
   ]
  },
  {
   "cell_type": "code",
   "execution_count": 39,
   "id": "6be9aaad-3fbd-4513-944a-7509d03f3850",
   "metadata": {},
   "outputs": [
    {
     "data": {
      "text/html": [
       "<div>\n",
       "<style scoped>\n",
       "    .dataframe tbody tr th:only-of-type {\n",
       "        vertical-align: middle;\n",
       "    }\n",
       "\n",
       "    .dataframe tbody tr th {\n",
       "        vertical-align: top;\n",
       "    }\n",
       "\n",
       "    .dataframe thead th {\n",
       "        text-align: right;\n",
       "    }\n",
       "</style>\n",
       "<table border=\"1\" class=\"dataframe\">\n",
       "  <thead>\n",
       "    <tr style=\"text-align: right;\">\n",
       "      <th></th>\n",
       "      <th>PolicyID</th>\n",
       "      <th>ClaimNb</th>\n",
       "      <th>Exposure</th>\n",
       "      <th>Power</th>\n",
       "      <th>CarAge</th>\n",
       "      <th>DriverAge</th>\n",
       "      <th>Brand</th>\n",
       "      <th>Gas</th>\n",
       "      <th>Region</th>\n",
       "      <th>Density</th>\n",
       "    </tr>\n",
       "  </thead>\n",
       "  <tbody>\n",
       "  </tbody>\n",
       "</table>\n",
       "</div>"
      ],
      "text/plain": [
       "Empty DataFrame\n",
       "Columns: [PolicyID, ClaimNb, Exposure, Power, CarAge, DriverAge, Brand, Gas, Region, Density]\n",
       "Index: []"
      ]
     },
     "execution_count": 39,
     "metadata": {},
     "output_type": "execute_result"
    }
   ],
   "source": [
    "duplicates_freq = MTPL_freq[MTPL_freq.duplicated([\"PolicyID\"], keep =False)]\n",
    "duplicates_freq"
   ]
  },
  {
   "cell_type": "markdown",
   "id": "316ee9a4-c713-43e5-92b5-e6a549783af0",
   "metadata": {},
   "source": [
    "No such duplicates appear in duplicates_freq\n",
    "\n"
   ]
  },
  {
   "cell_type": "markdown",
   "id": "bbf8d444-74ec-414f-96bb-7fcaf444b831",
   "metadata": {},
   "source": [
    "## Getting rid of duplicates"
   ]
  },
  {
   "cell_type": "code",
   "execution_count": 40,
   "id": "3a8917d9-9759-4fa8-bed3-fb919dc250ad",
   "metadata": {},
   "outputs": [
    {
     "data": {
      "text/html": [
       "<div>\n",
       "<style scoped>\n",
       "    .dataframe tbody tr th:only-of-type {\n",
       "        vertical-align: middle;\n",
       "    }\n",
       "\n",
       "    .dataframe tbody tr th {\n",
       "        vertical-align: top;\n",
       "    }\n",
       "\n",
       "    .dataframe thead th {\n",
       "        text-align: right;\n",
       "    }\n",
       "</style>\n",
       "<table border=\"1\" class=\"dataframe\">\n",
       "  <thead>\n",
       "    <tr style=\"text-align: right;\">\n",
       "      <th></th>\n",
       "      <th>PolicyID</th>\n",
       "      <th>ClaimAmount</th>\n",
       "    </tr>\n",
       "  </thead>\n",
       "  <tbody>\n",
       "    <tr>\n",
       "      <th>0</th>\n",
       "      <td>33</td>\n",
       "      <td>302</td>\n",
       "    </tr>\n",
       "    <tr>\n",
       "      <th>1</th>\n",
       "      <td>41</td>\n",
       "      <td>2001</td>\n",
       "    </tr>\n",
       "    <tr>\n",
       "      <th>2</th>\n",
       "      <td>92</td>\n",
       "      <td>1449</td>\n",
       "    </tr>\n",
       "    <tr>\n",
       "      <th>3</th>\n",
       "      <td>96</td>\n",
       "      <td>10870</td>\n",
       "    </tr>\n",
       "    <tr>\n",
       "      <th>4</th>\n",
       "      <td>142</td>\n",
       "      <td>1390</td>\n",
       "    </tr>\n",
       "  </tbody>\n",
       "</table>\n",
       "</div>"
      ],
      "text/plain": [
       "   PolicyID  ClaimAmount\n",
       "0        33          302\n",
       "1        41         2001\n",
       "2        92         1449\n",
       "3        96        10870\n",
       "4       142         1390"
      ]
     },
     "execution_count": 40,
     "metadata": {},
     "output_type": "execute_result"
    }
   ],
   "source": [
    "#Aggregate the claim amount of PolicyID\n",
    "MTPLsev_grp = MTPL_sev.groupby([\"PolicyID\"])[[\"ClaimAmount\"]].agg(\"sum\").reset_index()\n",
    "MTPLsev_grp.head(5)"
   ]
  },
  {
   "cell_type": "markdown",
   "id": "7bea33b2-d323-463a-929f-c4745cb54051",
   "metadata": {},
   "source": [
    "Duplicates are now gone"
   ]
  },
  {
   "cell_type": "markdown",
   "id": "839068a3-6231-4288-9e7b-a394cfa0e50e",
   "metadata": {},
   "source": [
    "### Merging"
   ]
  },
  {
   "cell_type": "code",
   "execution_count": 48,
   "id": "fc422cce-7fc7-41b1-aa9e-1dcaaa04b52d",
   "metadata": {},
   "outputs": [],
   "source": [
    "df_merged = pd.merge(MTPL_freq, MTPLsev_grp, how = \"outer\", on=\"PolicyID\").fillna(0).set_index(\"PolicyID\")"
   ]
  },
  {
   "cell_type": "markdown",
   "id": "08c146ee-2cdf-4bbd-86ee-1fd3f116ef78",
   "metadata": {},
   "source": [
    "Merging the two datasets, as MTPL_sev contains only one additional column and had a convinient PolicyID key that we can merge on and set it as index"
   ]
  },
  {
   "cell_type": "code",
   "execution_count": 47,
   "id": "d2644fba-3020-4681-9699-e75cf7705d4f",
   "metadata": {},
   "outputs": [
    {
     "data": {
      "text/html": [
       "<div>\n",
       "<style scoped>\n",
       "    .dataframe tbody tr th:only-of-type {\n",
       "        vertical-align: middle;\n",
       "    }\n",
       "\n",
       "    .dataframe tbody tr th {\n",
       "        vertical-align: top;\n",
       "    }\n",
       "\n",
       "    .dataframe thead th {\n",
       "        text-align: right;\n",
       "    }\n",
       "</style>\n",
       "<table border=\"1\" class=\"dataframe\">\n",
       "  <thead>\n",
       "    <tr style=\"text-align: right;\">\n",
       "      <th></th>\n",
       "      <th>ClaimNb</th>\n",
       "      <th>Exposure</th>\n",
       "      <th>Power</th>\n",
       "      <th>CarAge</th>\n",
       "      <th>DriverAge</th>\n",
       "      <th>Brand</th>\n",
       "      <th>Gas</th>\n",
       "      <th>Region</th>\n",
       "      <th>Density</th>\n",
       "      <th>ClaimAmount</th>\n",
       "    </tr>\n",
       "    <tr>\n",
       "      <th>PolicyID</th>\n",
       "      <th></th>\n",
       "      <th></th>\n",
       "      <th></th>\n",
       "      <th></th>\n",
       "      <th></th>\n",
       "      <th></th>\n",
       "      <th></th>\n",
       "      <th></th>\n",
       "      <th></th>\n",
       "      <th></th>\n",
       "    </tr>\n",
       "  </thead>\n",
       "  <tbody>\n",
       "    <tr>\n",
       "      <th>1</th>\n",
       "      <td>0</td>\n",
       "      <td>0.090000</td>\n",
       "      <td>g</td>\n",
       "      <td>0</td>\n",
       "      <td>46</td>\n",
       "      <td>Japanese (except Nissan) or Korean</td>\n",
       "      <td>Diesel</td>\n",
       "      <td>Aquitaine</td>\n",
       "      <td>76</td>\n",
       "      <td>0.0</td>\n",
       "    </tr>\n",
       "    <tr>\n",
       "      <th>2</th>\n",
       "      <td>0</td>\n",
       "      <td>0.840000</td>\n",
       "      <td>g</td>\n",
       "      <td>0</td>\n",
       "      <td>46</td>\n",
       "      <td>Japanese (except Nissan) or Korean</td>\n",
       "      <td>Diesel</td>\n",
       "      <td>Aquitaine</td>\n",
       "      <td>76</td>\n",
       "      <td>0.0</td>\n",
       "    </tr>\n",
       "    <tr>\n",
       "      <th>3</th>\n",
       "      <td>0</td>\n",
       "      <td>0.520000</td>\n",
       "      <td>f</td>\n",
       "      <td>2</td>\n",
       "      <td>38</td>\n",
       "      <td>Japanese (except Nissan) or Korean</td>\n",
       "      <td>Regular</td>\n",
       "      <td>Nord-Pas-de-Calais</td>\n",
       "      <td>3003</td>\n",
       "      <td>0.0</td>\n",
       "    </tr>\n",
       "    <tr>\n",
       "      <th>4</th>\n",
       "      <td>0</td>\n",
       "      <td>0.450000</td>\n",
       "      <td>f</td>\n",
       "      <td>2</td>\n",
       "      <td>38</td>\n",
       "      <td>Japanese (except Nissan) or Korean</td>\n",
       "      <td>Regular</td>\n",
       "      <td>Nord-Pas-de-Calais</td>\n",
       "      <td>3003</td>\n",
       "      <td>0.0</td>\n",
       "    </tr>\n",
       "    <tr>\n",
       "      <th>5</th>\n",
       "      <td>0</td>\n",
       "      <td>0.150000</td>\n",
       "      <td>g</td>\n",
       "      <td>0</td>\n",
       "      <td>41</td>\n",
       "      <td>Japanese (except Nissan) or Korean</td>\n",
       "      <td>Diesel</td>\n",
       "      <td>Pays-de-la-Loire</td>\n",
       "      <td>60</td>\n",
       "      <td>0.0</td>\n",
       "    </tr>\n",
       "    <tr>\n",
       "      <th>...</th>\n",
       "      <td>...</td>\n",
       "      <td>...</td>\n",
       "      <td>...</td>\n",
       "      <td>...</td>\n",
       "      <td>...</td>\n",
       "      <td>...</td>\n",
       "      <td>...</td>\n",
       "      <td>...</td>\n",
       "      <td>...</td>\n",
       "      <td>...</td>\n",
       "    </tr>\n",
       "    <tr>\n",
       "      <th>413165</th>\n",
       "      <td>0</td>\n",
       "      <td>0.002740</td>\n",
       "      <td>j</td>\n",
       "      <td>0</td>\n",
       "      <td>29</td>\n",
       "      <td>Japanese (except Nissan) or Korean</td>\n",
       "      <td>Diesel</td>\n",
       "      <td>Ile-de-France</td>\n",
       "      <td>2471</td>\n",
       "      <td>0.0</td>\n",
       "    </tr>\n",
       "    <tr>\n",
       "      <th>413166</th>\n",
       "      <td>0</td>\n",
       "      <td>0.005479</td>\n",
       "      <td>d</td>\n",
       "      <td>0</td>\n",
       "      <td>29</td>\n",
       "      <td>Japanese (except Nissan) or Korean</td>\n",
       "      <td>Regular</td>\n",
       "      <td>Ile-de-France</td>\n",
       "      <td>5360</td>\n",
       "      <td>0.0</td>\n",
       "    </tr>\n",
       "    <tr>\n",
       "      <th>413167</th>\n",
       "      <td>0</td>\n",
       "      <td>0.005479</td>\n",
       "      <td>k</td>\n",
       "      <td>0</td>\n",
       "      <td>49</td>\n",
       "      <td>Japanese (except Nissan) or Korean</td>\n",
       "      <td>Diesel</td>\n",
       "      <td>Ile-de-France</td>\n",
       "      <td>5360</td>\n",
       "      <td>0.0</td>\n",
       "    </tr>\n",
       "    <tr>\n",
       "      <th>413168</th>\n",
       "      <td>0</td>\n",
       "      <td>0.002740</td>\n",
       "      <td>d</td>\n",
       "      <td>0</td>\n",
       "      <td>41</td>\n",
       "      <td>Japanese (except Nissan) or Korean</td>\n",
       "      <td>Regular</td>\n",
       "      <td>Ile-de-France</td>\n",
       "      <td>9850</td>\n",
       "      <td>0.0</td>\n",
       "    </tr>\n",
       "    <tr>\n",
       "      <th>413169</th>\n",
       "      <td>0</td>\n",
       "      <td>0.002740</td>\n",
       "      <td>g</td>\n",
       "      <td>6</td>\n",
       "      <td>29</td>\n",
       "      <td>Japanese (except Nissan) or Korean</td>\n",
       "      <td>Diesel</td>\n",
       "      <td>Aquitaine</td>\n",
       "      <td>65</td>\n",
       "      <td>0.0</td>\n",
       "    </tr>\n",
       "  </tbody>\n",
       "</table>\n",
       "<p>413169 rows × 10 columns</p>\n",
       "</div>"
      ],
      "text/plain": [
       "          ClaimNb  Exposure Power  CarAge  DriverAge  \\\n",
       "PolicyID                                               \n",
       "1               0  0.090000     g       0         46   \n",
       "2               0  0.840000     g       0         46   \n",
       "3               0  0.520000     f       2         38   \n",
       "4               0  0.450000     f       2         38   \n",
       "5               0  0.150000     g       0         41   \n",
       "...           ...       ...   ...     ...        ...   \n",
       "413165          0  0.002740     j       0         29   \n",
       "413166          0  0.005479     d       0         29   \n",
       "413167          0  0.005479     k       0         49   \n",
       "413168          0  0.002740     d       0         41   \n",
       "413169          0  0.002740     g       6         29   \n",
       "\n",
       "                                       Brand      Gas              Region  \\\n",
       "PolicyID                                                                    \n",
       "1         Japanese (except Nissan) or Korean   Diesel           Aquitaine   \n",
       "2         Japanese (except Nissan) or Korean   Diesel           Aquitaine   \n",
       "3         Japanese (except Nissan) or Korean  Regular  Nord-Pas-de-Calais   \n",
       "4         Japanese (except Nissan) or Korean  Regular  Nord-Pas-de-Calais   \n",
       "5         Japanese (except Nissan) or Korean   Diesel    Pays-de-la-Loire   \n",
       "...                                      ...      ...                 ...   \n",
       "413165    Japanese (except Nissan) or Korean   Diesel       Ile-de-France   \n",
       "413166    Japanese (except Nissan) or Korean  Regular       Ile-de-France   \n",
       "413167    Japanese (except Nissan) or Korean   Diesel       Ile-de-France   \n",
       "413168    Japanese (except Nissan) or Korean  Regular       Ile-de-France   \n",
       "413169    Japanese (except Nissan) or Korean   Diesel           Aquitaine   \n",
       "\n",
       "          Density  ClaimAmount  \n",
       "PolicyID                        \n",
       "1              76          0.0  \n",
       "2              76          0.0  \n",
       "3            3003          0.0  \n",
       "4            3003          0.0  \n",
       "5              60          0.0  \n",
       "...           ...          ...  \n",
       "413165       2471          0.0  \n",
       "413166       5360          0.0  \n",
       "413167       5360          0.0  \n",
       "413168       9850          0.0  \n",
       "413169         65          0.0  \n",
       "\n",
       "[413169 rows x 10 columns]"
      ]
     },
     "execution_count": 47,
     "metadata": {},
     "output_type": "execute_result"
    }
   ],
   "source": [
    "df_merged"
   ]
  },
  {
   "cell_type": "code",
   "execution_count": 49,
   "id": "8b70d227-7639-40ca-9a50-a3e6dff228d6",
   "metadata": {},
   "outputs": [
    {
     "name": "stdout",
     "output_type": "stream",
     "text": [
      "34465077.0\n"
     ]
    }
   ],
   "source": [
    "print(sum(df_merged['ClaimAmount']))"
   ]
  },
  {
   "cell_type": "markdown",
   "id": "6fd3e379-6581-47bc-8265-e7471d2b8d42",
   "metadata": {},
   "source": [
    "### 1.1 Initial exploration"
   ]
  },
  {
   "cell_type": "code",
   "execution_count": 50,
   "id": "25accee1-2155-4921-b340-bffe386d43ab",
   "metadata": {},
   "outputs": [
    {
     "name": "stdout",
     "output_type": "stream",
     "text": [
      "Index(['ClaimNb', 'Exposure', 'Power', 'CarAge', 'DriverAge', 'Brand', 'Gas',\n",
      "       'Region', 'Density', 'ClaimAmount'],\n",
      "      dtype='object')\n",
      "\n",
      "\n",
      "ClaimNb          int64\n",
      "Exposure       float64\n",
      "Power           object\n",
      "CarAge           int64\n",
      "DriverAge        int64\n",
      "Brand           object\n",
      "Gas             object\n",
      "Region          object\n",
      "Density          int64\n",
      "ClaimAmount    float64\n",
      "dtype: object\n",
      "\n",
      "\n"
     ]
    }
   ],
   "source": [
    "print(df_merged.columns)\n",
    "print('\\n')\n",
    "print(df_merged.dtypes)\n",
    "print('\\n')"
   ]
  },
  {
   "cell_type": "code",
   "execution_count": 52,
   "id": "c69de765-1b95-4d37-bb7d-97beb6f2e9a8",
   "metadata": {},
   "outputs": [
    {
     "name": "stdout",
     "output_type": "stream",
     "text": [
      "          ClaimNb  Exposure Power  CarAge  DriverAge  \\\n",
      "PolicyID                                               \n",
      "1               0      0.09     g       0         46   \n",
      "2               0      0.84     g       0         46   \n",
      "3               0      0.52     f       2         38   \n",
      "4               0      0.45     f       2         38   \n",
      "5               0      0.15     g       0         41   \n",
      "\n",
      "                                       Brand      Gas              Region  \\\n",
      "PolicyID                                                                    \n",
      "1         Japanese (except Nissan) or Korean   Diesel           Aquitaine   \n",
      "2         Japanese (except Nissan) or Korean   Diesel           Aquitaine   \n",
      "3         Japanese (except Nissan) or Korean  Regular  Nord-Pas-de-Calais   \n",
      "4         Japanese (except Nissan) or Korean  Regular  Nord-Pas-de-Calais   \n",
      "5         Japanese (except Nissan) or Korean   Diesel    Pays-de-la-Loire   \n",
      "\n",
      "          Density  ClaimAmount  \n",
      "PolicyID                        \n",
      "1              76          0.0  \n",
      "2              76          0.0  \n",
      "3            3003          0.0  \n",
      "4            3003          0.0  \n",
      "5              60          0.0  \n"
     ]
    }
   ],
   "source": [
    "print(df_merged.head())"
   ]
  },
  {
   "cell_type": "markdown",
   "id": "51cd9a23-d0cb-4875-94a7-eec061690328",
   "metadata": {},
   "source": [
    "### Broad questions: outliers, max, most common occurances"
   ]
  },
  {
   "cell_type": "markdown",
   "id": "65e4a37d-33bc-4cdc-a00e-4753782a96be",
   "metadata": {},
   "source": [
    "Our Sales department asked us to outline the percentage of clients who have not made any claims"
   ]
  },
  {
   "cell_type": "code",
   "execution_count": 59,
   "id": "09d0099a-ff2d-43ce-a147-37cdad9ae1b4",
   "metadata": {},
   "outputs": [
    {
     "name": "stdout",
     "output_type": "stream",
     "text": [
      "96.28% of policyholders have not made any claims\n"
     ]
    }
   ],
   "source": [
    "policies_no_claims = len(df_merged.loc[df_merged[\"ClaimNb\"] == 0].index)\n",
    "all_policies = len(df_merged.index)\n",
    "\n",
    "pct_policies_no_claim = round((policies_no_claims/all_policies)*100, 2)\n",
    "\n",
    "print(str(pct_policies_no_claim)+ \"% of policyholders have not made any claims\")"
   ]
  },
  {
   "cell_type": "markdown",
   "id": "aa5cd588-5d00-4553-9000-8db03d34e86a",
   "metadata": {},
   "source": [
    "And the number of those who did:"
   ]
  },
  {
   "cell_type": "code",
   "execution_count": 68,
   "id": "5ca14255-1e6d-4898-ac8e-252fe43f8a38",
   "metadata": {},
   "outputs": [
    {
     "name": "stdout",
     "output_type": "stream",
     "text": [
      "3.72% of policyholders have made at least one claim\n"
     ]
    }
   ],
   "source": [
    "print(str(round(100 - pct_policies_no_claim, 2)) + \"% of policyholders have made at least one claim\")"
   ]
  },
  {
   "cell_type": "markdown",
   "id": "bea4062a-d877-4f0f-be88-4de18623f246",
   "metadata": {},
   "source": [
    "Since most policyholders haven't filed any claims, it suggests that the distribution of ClaimAmounts will be such that there is a peak at zero, \n",
    "but the distribution will also be skewed to the right or have a long tail on the right-hand side. This is because there will be some policyholders \n",
    "who file claims with positive ClaimAmounts, and the probability of such claims decreases exponentially as the ClaimAmount increases."
   ]
  },
  {
   "cell_type": "markdown",
   "id": "23994b34-369d-4362-b076-1dcb7e54c2c9",
   "metadata": {},
   "source": [
    "## Step 2: Generating additional features based on interactions/transformations fo existing variables"
   ]
  },
  {
   "cell_type": "markdown",
   "id": "4e22562c-b3ae-4e63-bf59-bfc09dda13e2",
   "metadata": {},
   "source": [
    "Two additional indicators that our Sales Department has requested are: the frequency of claims and severity of claims (in units of public exposure"
   ]
  },
  {
   "cell_type": "code",
   "execution_count": 69,
   "id": "5d01d7a4-72d1-49a0-9fe4-91d7d7445b12",
   "metadata": {},
   "outputs": [],
   "source": [
    "df_merged[\"ClaimFreq\"] = df_merged[\"ClaimNb\"] / df_merged[\"Exposure\"]\n",
    "\n",
    "df_merged[\"ClaimSev\"] = df_merged[\"ClaimAmount\"] / df_merged[\"Exposure\"]"
   ]
  },
  {
   "cell_type": "markdown",
   "id": "8bb42c10-b1a8-4dd4-830c-e2a9c16cfcaa",
   "metadata": {},
   "source": [
    "Examples:"
   ]
  },
  {
   "cell_type": "code",
   "execution_count": null,
   "id": "520fa719-814b-4b8f-843d-3bfd0a9ff7d0",
   "metadata": {},
   "outputs": [],
   "source": [
    "example1 = df_merged[\"ClaimFreq\"]"
   ]
  },
  {
   "cell_type": "code",
   "execution_count": null,
   "id": "08b4a278-3734-4ead-bf79-eca2a38bd105",
   "metadata": {},
   "outputs": [],
   "source": []
  },
  {
   "cell_type": "markdown",
   "id": "3de62c4b-bc17-4352-afe4-680648933367",
   "metadata": {},
   "source": [
    "## Step 3: Performing train/test slpit of the dataset"
   ]
  },
  {
   "cell_type": "markdown",
   "id": "5bfa7847-db08-43ae-86ca-83c0fe33ec74",
   "metadata": {},
   "source": [
    "1. Separate df_merged into 2 datasets "
   ]
  },
  {
   "cell_type": "code",
   "execution_count": 78,
   "id": "532d484f-8c0c-4574-9309-b2e9aa5ca698",
   "metadata": {},
   "outputs": [],
   "source": [
    "y_full = df_merged.ClaimAmount\n",
    "X_full = df_merged.drop([\"ClaimAmount\", \"ClaimSev\"], axis=1)\n",
    "\n",
    "# print(y_full.head())\n",
    "\n",
    "# print(X_full.head())"
   ]
  },
  {
   "cell_type": "code",
   "execution_count": 80,
   "id": "b0d4fc87-f8b0-432f-9c41-de170a6344ef",
   "metadata": {},
   "outputs": [],
   "source": [
    "from sklearn.model_selection import train_test_split\n",
    "\n",
    "#80% train, 20% test\n",
    "X_train, X_valid, y_train, y_valid = train_test_split(X_full, y_full, train_size = 0.8, test_size = 0.2, random_state=1)"
   ]
  },
  {
   "cell_type": "code",
   "execution_count": 88,
   "id": "87896712-8c6a-4f88-a9db-484d628d551b",
   "metadata": {},
   "outputs": [],
   "source": [
    "from sklearn.preprocessing import LabelEncoder\n",
    "\n",
    "# Make a copy of the training/validation feature subsets to avoid changing any original data.\n",
    "copy_X_train = X_train.copy()\n",
    "copy_X_valid = X_valid.copy()\n",
    "\n",
    "# Apply a label encoder to the 'Power' column (i.e. encoding of ordinal variable).\n",
    "label_encoder = LabelEncoder()\n",
    "\n",
    "copy_X_train['Power'] = label_encoder.fit_transform(X_train['Power'])\n",
    "copy_X_valid['Power'] = label_encoder.transform(X_valid['Power'])"
   ]
  },
  {
   "cell_type": "markdown",
   "id": "d3fdcbac-730e-40f3-b737-23416ec880f4",
   "metadata": {},
   "source": [
    "### One-Hot Encoding"
   ]
  },
  {
   "cell_type": "code",
   "execution_count": 90,
   "id": "b27e5216-132f-4ca3-8e59-5a05942bf38b",
   "metadata": {},
   "outputs": [
    {
     "name": "stderr",
     "output_type": "stream",
     "text": [
      "/home/thomas/anaconda3/envs/DataAnalysis/lib/python3.9/site-packages/sklearn/preprocessing/_encoders.py:828: FutureWarning: `sparse` was renamed to `sparse_output` in version 1.2 and will be removed in 1.4. `sparse_output` is ignored unless you leave `sparse` to its default value.\n",
      "  warnings.warn(\n"
     ]
    }
   ],
   "source": [
    "from sklearn.preprocessing import OneHotEncoder\n",
    "\n",
    "# Initialise a one-hot encoder to columns that contain categorical data.\n",
    "OH_encoder = OneHotEncoder(handle_unknown='ignore', sparse=False)\n",
    "OH_cols = ['Brand', 'Gas', 'Region']\n",
    "\n",
    "## We set handle_unknown='ignore' to avoid errors when the validation data contains classes that aren't represented\n",
    "## in the training data, and setting sparse=False ensures that the encoded columns are returned as a numpy array\n",
    "## (instead of a sparse matrix).\n",
    "\n",
    "# Use the one-hot encoder to transform the categorical data columns. \n",
    "OH_cols_train = pd.DataFrame(OH_encoder.fit_transform(copy_X_train[OH_cols]))\n",
    "OH_cols_valid = pd.DataFrame(OH_encoder.transform(copy_X_valid[OH_cols]))\n",
    "\n",
    "# One-hot encoding removes the index; re-assign the original index.\n",
    "OH_cols_train.index = copy_X_train.index\n",
    "OH_cols_valid.index = copy_X_valid.index\n",
    "\n",
    "# Add column-labelling back in, using the get_feature_names() function. \n",
    "OH_cols_train.columns = OH_encoder.get_feature_names_out(OH_cols)\n",
    "OH_cols_valid.columns = OH_encoder.get_feature_names_out(OH_cols)\n",
    "\n",
    "# Create copies that only include numerical feature columns (these will be replaced with one-hot encoded versions).\n",
    "copy_X_train_no_OH_cols = copy_X_train.drop(OH_cols, axis=1)\n",
    "copy_X_valid_no_OH_cols = copy_X_valid.drop(OH_cols, axis=1)\n",
    "\n",
    "# Concatenate the one-hot encoded columns with the existing numerical feature columns.\n",
    "X_train_enc = pd.concat([copy_X_train_no_OH_cols, OH_cols_train], axis=1)\n",
    "X_valid_enc = pd.concat([copy_X_valid_no_OH_cols, OH_cols_valid], axis=1)"
   ]
  },
  {
   "cell_type": "markdown",
   "id": "1df831e6-d371-4fec-9bb5-dacc4a83c3f9",
   "metadata": {},
   "source": [
    "### Data Scaling - normalisation"
   ]
  },
  {
   "cell_type": "code",
   "execution_count": 91,
   "id": "a9abec11-4c2f-40bd-9a61-e51aa9c4b50a",
   "metadata": {},
   "outputs": [],
   "source": [
    "from sklearn.preprocessing import MinMaxScaler"
   ]
  },
  {
   "cell_type": "markdown",
   "id": "70da0ca3-439f-4738-beee-381ce4112113",
   "metadata": {},
   "source": [
    "Here we normalise our data, to ensure that when we train our regression model, all features will have variance with the same order of magnitude as each other. Thus, no single feature will domindate the objective function and prohibit\n",
    "the model from earning from other features correctly as expected"
   ]
  },
  {
   "cell_type": "code",
   "execution_count": 93,
   "id": "6ec8394e-3929-4b19-991e-d79a8830fbd6",
   "metadata": {},
   "outputs": [],
   "source": [
    "MM_scaler = MinMaxScaler()\n",
    "MM_scaler.fit(X_train_enc)\n",
    "\n",
    "#Fitting scaler, then normalising both the training and validation feautre datasets\n",
    "X_train_scale = pd.DataFrame(MM_scaler.transform(X_train_enc),\n",
    "                             index = X_train_enc.index,\n",
    "                             columns=X_train_enc.columns)\n",
    "\n",
    "X_valid_scale = pd.DataFrame(MM_scaler.transform(X_valid_enc),\n",
    "                             index = X_valid_enc.index, \n",
    "                             columns = X_valid_enc.columns)"
   ]
  },
  {
   "cell_type": "code",
   "execution_count": 95,
   "id": "56c86362-eea3-4e2f-827a-1e288983d83b",
   "metadata": {},
   "outputs": [
    {
     "data": {
      "text/plain": [
       "ClaimNb      0.0\n",
       "Exposure     0.0\n",
       "Power        0.0\n",
       "CarAge       0.0\n",
       "DriverAge    0.0\n",
       "dtype: float64"
      ]
     },
     "execution_count": 95,
     "metadata": {},
     "output_type": "execute_result"
    }
   ],
   "source": [
    "#Verifying features\n",
    "X_train_scale.min(axis=0).head(5)\n",
    "\n"
   ]
  },
  {
   "cell_type": "code",
   "execution_count": 97,
   "id": "ef2fbd56-4a59-407b-839f-b83bdfa7c021",
   "metadata": {},
   "outputs": [
    {
     "data": {
      "text/plain": [
       "ClaimNb      1.0\n",
       "Exposure     1.0\n",
       "Power        1.0\n",
       "CarAge       1.0\n",
       "DriverAge    1.0\n",
       "dtype: float64"
      ]
     },
     "execution_count": 97,
     "metadata": {},
     "output_type": "execute_result"
    }
   ],
   "source": [
    "X_train_scale.max(axis=0).head(5)"
   ]
  },
  {
   "cell_type": "code",
   "execution_count": 98,
   "id": "4f1918e2-ce7a-4a6c-b7de-1ead9d724f99",
   "metadata": {},
   "outputs": [
    {
     "data": {
      "text/plain": [
       "ClaimNb      1.000000\n",
       "Exposure     0.718206\n",
       "Power        1.000000\n",
       "CarAge       1.000000\n",
       "DriverAge    1.000000\n",
       "dtype: float64"
      ]
     },
     "execution_count": 98,
     "metadata": {},
     "output_type": "execute_result"
    }
   ],
   "source": [
    "X_valid_scale.max(axis=0).head(5)"
   ]
  },
  {
   "cell_type": "code",
   "execution_count": 99,
   "id": "6da52215-5f17-4e4b-b419-a998f539cb55",
   "metadata": {},
   "outputs": [
    {
     "data": {
      "text/plain": [
       "ClaimNb      0.0\n",
       "Exposure     0.0\n",
       "Power        0.0\n",
       "CarAge       0.0\n",
       "DriverAge    0.0\n",
       "dtype: float64"
      ]
     },
     "execution_count": 99,
     "metadata": {},
     "output_type": "execute_result"
    }
   ],
   "source": [
    "X_valid_scale.min(axis=0).head(5)"
   ]
  },
  {
   "cell_type": "markdown",
   "id": "3914bcc9-8f45-4831-863d-3482d9a7e6e4",
   "metadata": {},
   "source": [
    "### Step 4: Exploring the original dataset to obtain descriptive statistics"
   ]
  },
  {
   "cell_type": "code",
   "execution_count": 100,
   "id": "e1365f16-60b2-423c-949b-acdeff4bffb4",
   "metadata": {},
   "outputs": [
    {
     "name": "stdout",
     "output_type": "stream",
     "text": [
      "             ClaimNb       Exposure         CarAge      DriverAge  \\\n",
      "count  413169.000000  413169.000000  413169.000000  413169.000000   \n",
      "mean        0.039163       0.561088       7.532404      45.319876   \n",
      "std         0.204053       0.369477       5.763011      14.328120   \n",
      "min         0.000000       0.002732       0.000000      18.000000   \n",
      "25%         0.000000       0.200000       3.000000      34.000000   \n",
      "50%         0.000000       0.540000       7.000000      44.000000   \n",
      "75%         0.000000       1.000000      12.000000      54.000000   \n",
      "max         4.000000       1.990000     100.000000      99.000000   \n",
      "\n",
      "             Density   ClaimAmount      ClaimFreq      ClaimSev  \n",
      "count  413169.000000  4.131690e+05  413169.000000  4.131690e+05  \n",
      "mean     1985.153913  8.341642e+01       0.118803  3.711403e+02  \n",
      "std      4776.254543  4.192526e+03       2.155181  3.493029e+04  \n",
      "min         2.000000  0.000000e+00       0.000000  0.000000e+00  \n",
      "25%        67.000000  0.000000e+00       0.000000  0.000000e+00  \n",
      "50%       287.000000  0.000000e+00       0.000000  0.000000e+00  \n",
      "75%      1410.000000  0.000000e+00       0.000000  0.000000e+00  \n",
      "max     27000.000000  2.036833e+06     365.000004  1.824670e+07  \n"
     ]
    }
   ],
   "source": [
    "print(df_merged.describe())"
   ]
  },
  {
   "cell_type": "code",
   "execution_count": 101,
   "id": "298ca1af-b467-4507-a502-e2a097c16a3a",
   "metadata": {},
   "outputs": [],
   "source": [
    "desc_pairplot_x_vars_A = ['ClaimNb', 'Power', 'CarAge', 'DriverAge', 'Brand', 'Gas', 'Density']\n",
    "\n",
    "desc_pairplot_x_vars_B = ['Power', 'CarAge', 'DriverAge', 'Brand', 'Gas', 'Density']"
   ]
  },
  {
   "cell_type": "markdown",
   "id": "e247dc37-051c-440c-86ad-a461aa77a343",
   "metadata": {},
   "source": [
    "Variables being passed into sns.pairplot (full_dataset, defined above (x_axis), single variable (y_axis)"
   ]
  },
  {
   "cell_type": "markdown",
   "id": "5d0173bc-0780-4784-8495-fad7ca6f8501",
   "metadata": {
    "tags": []
   },
   "source": [
    "#### Expsoure vs all"
   ]
  },
  {
   "cell_type": "code",
   "execution_count": 102,
   "id": "d88e6920-4cb3-4736-8bbe-6041737f5f26",
   "metadata": {},
   "outputs": [
    {
     "data": {
      "image/png": "[encoded data removed]",
      "text/plain": [
       "<Figure size 1750x250 with 7 Axes>"
      ]
     },
     "metadata": {},
     "output_type": "display_data"
    }
   ],
   "source": [
    "desc_pairplot_1 = sns.pairplot(df_merged, x_vars = desc_pairplot_x_vars_A, y_vars=\"Exposure\")"
   ]
  },
  {
   "cell_type": "markdown",
   "id": "734a54b7-daea-4b1a-8e30-9e1955469248",
   "metadata": {},
   "source": [
    "Breakdown:\n",
    "1. ClaimNb - Policyholders with higher claim  tend to be covered with policies with shorter Exposure\n",
    "2. Power - Cars with less power tend to be have longer exposure period, although with some exceptions\n",
    "3. CarAge - The newer the car, the longer the exposure period with some exceptions of vintage cars\n",
    "4. DriverAge - No pattern of Exposure < 1, lack of really young drivers and really old drivers with Exposure > 1\n",
    "5. Brand - No clear correlation\n",
    "6. Gas - Regular gets slightly longer exposure periods then Diesel\n",
    "7. Density - Wide distribution of policy exposure periods, which appears to decrease as the  population density of the area that the policy inhabits increases , however there are some observations at higher values of density"
   ]
  },
  {
   "cell_type": "markdown",
   "id": "3ad6d07b-ceb2-48a9-9fb6-38819f73ac49",
   "metadata": {},
   "source": [
    "ClaimNb vs. x_vars."
   ]
  },
  {
   "cell_type": "markdown",
   "id": "dc68cd40-a38e-49d4-b60c-f43631c7874f",
   "metadata": {},
   "source": [
    "#### ClaimNumber vs all"
   ]
  },
  {
   "cell_type": "code",
   "execution_count": 103,
   "id": "6e3d222f-f16d-4cc0-b26d-7aae664e9c63",
   "metadata": {},
   "outputs": [
    {
     "data": {
      "image/png": "[encoded data removed]",
      "text/plain": [
       "<Figure size 1500x250 with 6 Axes>"
      ]
     },
     "metadata": {},
     "output_type": "display_data"
    }
   ],
   "source": [
    "desc_pairplot_2 = sns.pairplot(df_merged, x_vars = desc_pairplot_x_vars_B, y_vars = \"ClaimNb\")"
   ]
  },
  {
   "cell_type": "markdown",
   "id": "ea31d9ba-97b9-459b-b767-c3b7ec2436f2",
   "metadata": {},
   "source": [
    "1. Power: The trend in this graph implies that policyholders who are in the upper quartile of claim frequency (i.e. N > 3) tend to drive less powerful/average cars, however there does not appear to be any general correlation between car power and claim frequency, among the majority of other policyholders.\n",
    "2. CarAge: The trend in this graph implies that a majority of the variance in ClaimNb is shown across cars that are younger than 50; the number of claims per policyholder tends to decrease with the age of the car.\n",
    "3. DriverAge: This graph shows a wide distribution of claim frequencies across drivers of different ages, with no clear trend between the age of the policyholder and the number of claims that they have made.\n",
    "4. Brand: This graph does not show any clear correlation or trend between the number of claims made and the brand of the car owned by the (insured) policyholder.\n",
    "5. Gas: This graph also does not show any clear correlation between the number of claims made and the fuel type of the car that is insured.\n",
    "6. Density: This graph shows the general trend that the number of claims per policyholder decreases as the population density (of the town/city that they live in) increases.\n",
    "\n"
   ]
  },
  {
   "cell_type": "markdown",
   "id": "07d01167-51ec-4245-8907-21542bac3038",
   "metadata": {},
   "source": [
    "#### ClaimFrequency vs all"
   ]
  },
  {
   "cell_type": "code",
   "execution_count": 104,
   "id": "d59bd964-f01a-4add-a507-ccfd4974851d",
   "metadata": {},
   "outputs": [
    {
     "data": {
      "image/png": "[encoded data removed]",
      "text/plain": [
       "<Figure size 1500x250 with 6 Axes>"
      ]
     },
     "metadata": {},
     "output_type": "display_data"
    }
   ],
   "source": [
    "desc_pairplot_3 = sns.pairplot(df_merged, x_vars=desc_pairplot_x_vars_B, y_vars='ClaimFreq')"
   ]
  },
  {
   "cell_type": "markdown",
   "id": "4c02201d-6def-49bd-b14c-f791818a4c5c",
   "metadata": {},
   "source": [
    "1. Power: The trend in this graph implies that ClaimFreq tends to decrease as the power of the car increases, however there are also some small peaks in ClaimFreq for certain categories representing high-powered cars (e.g. k/l).\n",
    "2. CarAge: This graph shows that a vast majority of the variance in ClaimFreq is shared across policyholders who own relatively young cars (CarAge < 25), but also implies that ClaimFreq decreases as the age of the car increases.\n",
    "3. DriverAge: This graph shows that claim frequency also decreases as the age of the policyholder increases, however a vast majority of the variance in ClaimFreq can be captured between the values of 0-100 (across all driver ages).\n",
    "4. Brand: There appears to be no clear trend or correlation between the frequency of claims and the brand of the car owned by the policyholder.\n",
    "5. Gas: This graph also does not show any clear correlation between ClaimFreq and the fuel type of the policyholder's car.\n",
    "6. Density: This graph displays a negative correlation between the frequency of claims made by the policyholder and the population density of the city that they live in.\n",
    "\n"
   ]
  },
  {
   "cell_type": "markdown",
   "id": "122e2858-215b-4392-9c43-85361d3012b1",
   "metadata": {},
   "source": [
    "#### ClaimAmount vs all"
   ]
  },
  {
   "cell_type": "code",
   "execution_count": 105,
   "id": "eb79283f-295d-447b-9aa3-2765d49bcf0a",
   "metadata": {},
   "outputs": [
    {
     "data": {
      "image/png": "[encoded data removed]",
      "text/plain": [
       "<Figure size 1500x250 with 6 Axes>"
      ]
     },
     "metadata": {},
     "output_type": "display_data"
    }
   ],
   "source": [
    "desc_pairplot_4 = sns.pairplot(df_merged, x_vars=desc_pairplot_x_vars_B, y_vars='ClaimAmount')"
   ]
  },
  {
   "cell_type": "markdown",
   "id": "4e511c2d-75e1-46f2-9077-b82285bcfaef",
   "metadata": {},
   "source": [
    "1. Power: This graph shows that there is an overall negative correlation between the power of the car owned by the policyholder and the total value of claims made by them, however there are two major outliers at lower car powers - this is generally an exception to the rule.\n",
    "2. CarAge: Similarly to the power of the car, there is an overall negative correlation between the age of the car and the total value of claims made by the policyholder, however there are some outliers for relatively new cars.\n",
    "3. DriverAge: This graph shows that total claim amounts tend to be higher at younger ages (between 20-40), however there is also a smaller group of drivers between 60-80 that are responsible for non-trivial total claim amounts; major outliers can also be seen for two newer drivers (DriverAge ~ 20).\n",
    "4. Brand: Whilst there are a handful of brands that are responsible for higher-than-normal claim amounts, these are in the vast minority of policyholders - the overall trend is that there is no clear correlation between the brand of the car and the total claim amount.\n",
    "5. Gas: This graph also does not show any clear correlation between ClaimAmount and the fuel type of the policyholder's car, however there are two distinct outliers within the 'Regular' category.\n",
    "6. Density: This graph displays a negative correlation between the total value of claims made by the policyholder and the population density of the city that they live in.\n",
    "\n"
   ]
  },
  {
   "cell_type": "markdown",
   "id": "41082f7d-ab69-4b23-a13f-ad577e3c353d",
   "metadata": {},
   "source": [
    "#### ClaimSeverity vs all"
   ]
  },
  {
   "cell_type": "code",
   "execution_count": 106,
   "id": "8f0a9609-4828-4fa4-8ed5-77f1cfcb4478",
   "metadata": {},
   "outputs": [
    {
     "data": {
      "image/png": "[encoded data removed]",
      "text/plain": [
       "<Figure size 1500x250 with 6 Axes>"
      ]
     },
     "metadata": {},
     "output_type": "display_data"
    }
   ],
   "source": [
    "desc_pairplot_5 = sns.pairplot(df_merged, x_vars=desc_pairplot_x_vars_B, y_vars='ClaimSev')"
   ]
  },
  {
   "cell_type": "markdown",
   "id": "fcbc21ea-8bc0-4b21-b8e1-e85db469bc20",
   "metadata": {},
   "source": [
    "1. Power: This graph shows that there is an overall negative correlation between the power of the car owned by the policyholder and the exposure-weighted total severity of claims made, however as before there are two major outliers at lower car powers.\n",
    "2. CarAge: Similarly to the power of the car, there is an overall negative correlation between the age of the car and the exposure-weighted total severity of claims made by the policyholder, however there are some outliers for relatively new (albeit slightly used) cars.\n",
    "3. DriverAge: This graph shows that exposure-weighted claim severities tend to be higher at younger ages (between 20-35), however there is also a smaller group of drivers between 45-55 that are responsible for non-trivial total claim amounts; some major outliers can also be seen for two very new drivers (DriverAge ~ 20).\n",
    "4. Brand: Whilst there are a handful of brands that are responsible for higher-than-normal claim severities, these are in the vast minority of policyholders - the overall trend is that there is no clear correlation between the brand of the car and the total claim amount.\n",
    "5. Gas: This graph also does not show any clear correlation between ClaimSeverity and the fuel type of the policyholder's car, however there are two distinct outliers within the 'Regular' category.\n",
    "6. Density: This graph displays a negative correlation between the total value of claims made by the policyholder and the population density of the city that they live in.\n",
    "\n"
   ]
  },
  {
   "cell_type": "markdown",
   "id": "061d01bd-71f2-43a9-8654-a1033f84ac02",
   "metadata": {},
   "source": [
    "MISC:"
   ]
  },
  {
   "cell_type": "markdown",
   "id": "bad23ac6-3a44-4327-8b01-53838301c8bf",
   "metadata": {},
   "source": [
    "Linear Regression for Claim amount is not appropriated as values are centred around -"
   ]
  },
  {
   "cell_type": "markdown",
   "id": "18d6ce88-ae2a-45d4-9905-fa3e42df45ef",
   "metadata": {},
   "source": [
    "Consider Regression approaches using generalised linear models which allow for response variables to have distributions that are non-normal,\n",
    "as well as other regressors that are capable of generalising in an agnostic manner"
   ]
  },
  {
   "cell_type": "markdown",
   "id": "8a22b812-4916-4cc2-a5f5-9a20f44ec840",
   "metadata": {},
   "source": [
    "### Step 5: Perform feature selection via L1 regularisation\n"
   ]
  },
  {
   "cell_type": "markdown",
   "id": "2ebd00d0-552b-48ab-8cbd-f72e13dabf8a",
   "metadata": {},
   "source": [
    "This is done to reduce the number of features that are used for fitting each of the models - to prevent overfitting"
   ]
  },
  {
   "cell_type": "markdown",
   "id": "d71a11f7-4785-4eb7-bf0c-b5a5bfed6ae6",
   "metadata": {},
   "source": [
    "Loss=Error(y,y^)+λ∑i=1N|wi|\n",
    "\n",
    "Where:\n",
    "1. y is the true value/severity of the claim\n",
    "2. y^ is the claim value/severity predicted by the model\n",
    "3. λ>0 is the regularisation parameter that determines the strength of regularisation to be applied to the loss function\n",
    "4. wi is the weight of feature i"
   ]
  },
  {
   "cell_type": "markdown",
   "id": "ca77a0c0-be9f-4c6a-b378-0d64dc878b04",
   "metadata": {},
   "source": [
    "Implemented via Lasso() from sklearn.linear_model\n",
    "\n",
    "Takes \n",
    "1. Alpha - represntes the constant that multiples the L1 term (equivalent to λ) (multiplies the L1 term)\n",
    "2. Random state - sets the random number seed and is used for reproducibility pruposes\n",
    "3. max_iter "
   ]
  },
  {
   "cell_type": "markdown",
   "id": "9b4caba7-0f9f-4662-a6f1-7cb917e15fdb",
   "metadata": {},
   "source": [
    "#### Method:\n",
    "1. Pass lasso to the SelectFromModel class, before assigning it to a new variable called model - \n",
    "we specify prefit=True to ensure that the meta-transformer should expect a prefit model to be passed directly to it.\n",
    "2. Apply .Transform() method to reduce the scaled training dataset down to the features that were selected by the Lasso model\n",
    "3. Finally, we create a new df selected_features which holds all important features from the original set of columns in X_train_L1 as their original values but sets values of 0 for every other feature"
   ]
  },
  {
   "cell_type": "code",
   "execution_count": 111,
   "id": "8abfbada-8aa6-4994-bfc9-7702da57e3c7",
   "metadata": {},
   "outputs": [
    {
     "name": "stdout",
     "output_type": "stream",
     "text": [
      "          ClaimNb  Exposure     Power  CarAge  DriverAge   Density  ClaimFreq  \\\n",
      "PolicyID                                                                        \n",
      "194119       0.00  0.240163  0.181818    0.07   0.407407  0.152826   0.000000   \n",
      "293687       0.00  0.501829  0.272727    0.13   0.358025  0.004667   0.000000   \n",
      "132615       0.25  0.199907  0.090909    0.09   0.333333  1.000000   0.006849   \n",
      "138539       0.00  0.290483  0.090909    0.04   0.172840  0.029632   0.000000   \n",
      "217750       0.00  0.260291  0.181818    0.11   0.111111  0.018631   0.000000   \n",
      "...           ...       ...       ...     ...        ...       ...        ...   \n",
      "73350        0.00  0.501829  0.181818    0.09   0.567901  0.002630   0.000000   \n",
      "371404       0.00  0.209971  0.545455    0.01   0.111111  1.000000   0.000000   \n",
      "312202       0.00  0.189842  0.000000    0.01   0.481481  1.000000   0.000000   \n",
      "267337       0.00  0.089202  0.000000    0.12   0.456790  0.005223   0.000000   \n",
      "128038       0.00  0.501829  0.181818    0.01   0.358025  0.135529   0.000000   \n",
      "\n",
      "          Brand_Fiat  Brand_Japanese (except Nissan) or Korean  \\\n",
      "PolicyID                                                         \n",
      "194119           0.0                                       0.0   \n",
      "293687           0.0                                       0.0   \n",
      "132615           0.0                                       0.0   \n",
      "138539           0.0                                       0.0   \n",
      "217750           0.0                                       0.0   \n",
      "...              ...                                       ...   \n",
      "73350            1.0                                       0.0   \n",
      "371404           0.0                                       0.0   \n",
      "312202           0.0                                       1.0   \n",
      "267337           0.0                                       0.0   \n",
      "128038           0.0                                       0.0   \n",
      "\n",
      "          Brand_Mercedes, Chrysler or BMW  ...  Region_Aquitaine  \\\n",
      "PolicyID                                   ...                     \n",
      "194119                                0.0  ...               0.0   \n",
      "293687                                0.0  ...               0.0   \n",
      "132615                                0.0  ...               0.0   \n",
      "138539                                0.0  ...               0.0   \n",
      "217750                                0.0  ...               0.0   \n",
      "...                                   ...  ...               ...   \n",
      "73350                                 0.0  ...               0.0   \n",
      "371404                                1.0  ...               0.0   \n",
      "312202                                0.0  ...               0.0   \n",
      "267337                                0.0  ...               0.0   \n",
      "128038                                0.0  ...               0.0   \n",
      "\n",
      "          Region_Basse-Normandie  Region_Bretagne  Region_Centre  \\\n",
      "PolicyID                                                           \n",
      "194119                       0.0              0.0            0.0   \n",
      "293687                       0.0              0.0            1.0   \n",
      "132615                       0.0              0.0            0.0   \n",
      "138539                       0.0              0.0            0.0   \n",
      "217750                       1.0              0.0            0.0   \n",
      "...                          ...              ...            ...   \n",
      "73350                        0.0              0.0            1.0   \n",
      "371404                       0.0              0.0            0.0   \n",
      "312202                       0.0              0.0            0.0   \n",
      "267337                       0.0              1.0            0.0   \n",
      "128038                       0.0              0.0            0.0   \n",
      "\n",
      "          Region_Haute-Normandie  Region_Ile-de-France  Region_Limousin  \\\n",
      "PolicyID                                                                  \n",
      "194119                       0.0                   0.0              0.0   \n",
      "293687                       0.0                   0.0              0.0   \n",
      "132615                       0.0                   0.0              0.0   \n",
      "138539                       0.0                   0.0              0.0   \n",
      "217750                       0.0                   0.0              0.0   \n",
      "...                          ...                   ...              ...   \n",
      "73350                        0.0                   0.0              0.0   \n",
      "371404                       0.0                   0.0              0.0   \n",
      "312202                       0.0                   0.0              0.0   \n",
      "267337                       0.0                   0.0              0.0   \n",
      "128038                       0.0                   0.0              0.0   \n",
      "\n",
      "          Region_Nord-Pas-de-Calais  Region_Pays-de-la-Loire  \\\n",
      "PolicyID                                                       \n",
      "194119                          0.0                      1.0   \n",
      "293687                          0.0                      0.0   \n",
      "132615                          0.0                      0.0   \n",
      "138539                          1.0                      0.0   \n",
      "217750                          0.0                      0.0   \n",
      "...                             ...                      ...   \n",
      "73350                           0.0                      0.0   \n",
      "371404                          0.0                      0.0   \n",
      "312202                          0.0                      0.0   \n",
      "267337                          0.0                      0.0   \n",
      "128038                          0.0                      0.0   \n",
      "\n",
      "          Region_Poitou-Charentes  \n",
      "PolicyID                           \n",
      "194119                        0.0  \n",
      "293687                        0.0  \n",
      "132615                        0.0  \n",
      "138539                        0.0  \n",
      "217750                        0.0  \n",
      "...                           ...  \n",
      "73350                         0.0  \n",
      "371404                        0.0  \n",
      "312202                        0.0  \n",
      "267337                        0.0  \n",
      "128038                        0.0  \n",
      "\n",
      "[330535 rows x 26 columns]\n"
     ]
    },
    {
     "name": "stderr",
     "output_type": "stream",
     "text": [
      "/home/thomas/anaconda3/envs/DataAnalysis/lib/python3.9/site-packages/sklearn/base.py:413: UserWarning: X has feature names, but SelectFromModel was fitted without feature names\n",
      "  warnings.warn(\n"
     ]
    }
   ],
   "source": [
    "from sklearn.linear_model import Lasso\n",
    "from sklearn.feature_selection import SelectFromModel\n",
    "\n",
    "# Establish the Lasso (L1) Regularisation model that will perform feature selection.\n",
    "lasso = Lasso(alpha=5e-5, random_state=1, max_iter=1000000).fit(X_train_scale, y_train)\n",
    "model = SelectFromModel(lasso, prefit=True)\n",
    "\n",
    "X_train_l1 = model.transform(X_train_scale)\n",
    "\n",
    "selected_features = pd.DataFrame(model.inverse_transform(X_train_l1),\n",
    "                                index=X_train_scale.index,\n",
    "                                columns=X_train_scale.columns)\n",
    "\n",
    "print(selected_features)"
   ]
  },
  {
   "cell_type": "code",
   "execution_count": 112,
   "id": "541ccbed-7d1d-4e63-930b-6926aaddabae",
   "metadata": {},
   "outputs": [
    {
     "name": "stdout",
     "output_type": "stream",
     "text": [
      "Index(['ClaimNb', 'Exposure', 'Power', 'CarAge', 'DriverAge', 'Density',\n",
      "       'ClaimFreq', 'Brand_Fiat', 'Brand_Japanese (except Nissan) or Korean',\n",
      "       'Brand_Mercedes, Chrysler or BMW', 'Brand_Opel, General Motors or Ford',\n",
      "       'Brand_Renault, Nissan or Citroen', 'Brand_other', 'Gas_Diesel',\n",
      "       'Region_Aquitaine', 'Region_Basse-Normandie', 'Region_Bretagne',\n",
      "       'Region_Centre', 'Region_Haute-Normandie', 'Region_Limousin',\n",
      "       'Region_Nord-Pas-de-Calais', 'Region_Pays-de-la-Loire',\n",
      "       'Region_Poitou-Charentes'],\n",
      "      dtype='object')\n"
     ]
    }
   ],
   "source": [
    "selected_columns = selected_features.columns[selected_features.var() != 0]\n",
    "\n",
    "print(selected_columns)"
   ]
  },
  {
   "cell_type": "code",
   "execution_count": 113,
   "id": "a464758e-bd3d-4aa3-970b-bda54ff2d758",
   "metadata": {},
   "outputs": [],
   "source": [
    "X_train_L1reg = selected_features.drop(selected_features.columns[selected_features.var() == 0], axis = 1)"
   ]
  },
  {
   "cell_type": "code",
   "execution_count": 114,
   "id": "236ee137-a5a2-4639-9a93-448b6a16b031",
   "metadata": {},
   "outputs": [
    {
     "name": "stdout",
     "output_type": "stream",
     "text": [
      "          ClaimNb  Exposure     Power  CarAge  DriverAge   Density  ClaimFreq  \\\n",
      "PolicyID                                                                        \n",
      "194119       0.00  0.240163  0.181818    0.07   0.407407  0.152826   0.000000   \n",
      "293687       0.00  0.501829  0.272727    0.13   0.358025  0.004667   0.000000   \n",
      "132615       0.25  0.199907  0.090909    0.09   0.333333  1.000000   0.006849   \n",
      "138539       0.00  0.290483  0.090909    0.04   0.172840  0.029632   0.000000   \n",
      "217750       0.00  0.260291  0.181818    0.11   0.111111  0.018631   0.000000   \n",
      "...           ...       ...       ...     ...        ...       ...        ...   \n",
      "73350        0.00  0.501829  0.181818    0.09   0.567901  0.002630   0.000000   \n",
      "371404       0.00  0.209971  0.545455    0.01   0.111111  1.000000   0.000000   \n",
      "312202       0.00  0.189842  0.000000    0.01   0.481481  1.000000   0.000000   \n",
      "267337       0.00  0.089202  0.000000    0.12   0.456790  0.005223   0.000000   \n",
      "128038       0.00  0.501829  0.181818    0.01   0.358025  0.135529   0.000000   \n",
      "\n",
      "          Brand_Fiat  Brand_Japanese (except Nissan) or Korean  \\\n",
      "PolicyID                                                         \n",
      "194119           0.0                                       0.0   \n",
      "293687           0.0                                       0.0   \n",
      "132615           0.0                                       0.0   \n",
      "138539           0.0                                       0.0   \n",
      "217750           0.0                                       0.0   \n",
      "...              ...                                       ...   \n",
      "73350            1.0                                       0.0   \n",
      "371404           0.0                                       0.0   \n",
      "312202           0.0                                       1.0   \n",
      "267337           0.0                                       0.0   \n",
      "128038           0.0                                       0.0   \n",
      "\n",
      "          Brand_Mercedes, Chrysler or BMW  ...  Gas_Diesel  Region_Aquitaine  \\\n",
      "PolicyID                                   ...                                 \n",
      "194119                                0.0  ...         0.0               0.0   \n",
      "293687                                0.0  ...         0.0               0.0   \n",
      "132615                                0.0  ...         0.0               0.0   \n",
      "138539                                0.0  ...         1.0               0.0   \n",
      "217750                                0.0  ...         1.0               0.0   \n",
      "...                                   ...  ...         ...               ...   \n",
      "73350                                 0.0  ...         0.0               0.0   \n",
      "371404                                1.0  ...         0.0               0.0   \n",
      "312202                                0.0  ...         0.0               0.0   \n",
      "267337                                0.0  ...         0.0               0.0   \n",
      "128038                                0.0  ...         1.0               0.0   \n",
      "\n",
      "          Region_Basse-Normandie  Region_Bretagne  Region_Centre  \\\n",
      "PolicyID                                                           \n",
      "194119                       0.0              0.0            0.0   \n",
      "293687                       0.0              0.0            1.0   \n",
      "132615                       0.0              0.0            0.0   \n",
      "138539                       0.0              0.0            0.0   \n",
      "217750                       1.0              0.0            0.0   \n",
      "...                          ...              ...            ...   \n",
      "73350                        0.0              0.0            1.0   \n",
      "371404                       0.0              0.0            0.0   \n",
      "312202                       0.0              0.0            0.0   \n",
      "267337                       0.0              1.0            0.0   \n",
      "128038                       0.0              0.0            0.0   \n",
      "\n",
      "          Region_Haute-Normandie  Region_Limousin  Region_Nord-Pas-de-Calais  \\\n",
      "PolicyID                                                                       \n",
      "194119                       0.0              0.0                        0.0   \n",
      "293687                       0.0              0.0                        0.0   \n",
      "132615                       0.0              0.0                        0.0   \n",
      "138539                       0.0              0.0                        1.0   \n",
      "217750                       0.0              0.0                        0.0   \n",
      "...                          ...              ...                        ...   \n",
      "73350                        0.0              0.0                        0.0   \n",
      "371404                       0.0              0.0                        0.0   \n",
      "312202                       0.0              0.0                        0.0   \n",
      "267337                       0.0              0.0                        0.0   \n",
      "128038                       0.0              0.0                        0.0   \n",
      "\n",
      "          Region_Pays-de-la-Loire  Region_Poitou-Charentes  \n",
      "PolicyID                                                    \n",
      "194119                        1.0                      0.0  \n",
      "293687                        0.0                      0.0  \n",
      "132615                        0.0                      0.0  \n",
      "138539                        0.0                      0.0  \n",
      "217750                        0.0                      0.0  \n",
      "...                           ...                      ...  \n",
      "73350                         0.0                      0.0  \n",
      "371404                        0.0                      0.0  \n",
      "312202                        0.0                      0.0  \n",
      "267337                        0.0                      0.0  \n",
      "128038                        0.0                      0.0  \n",
      "\n",
      "[330535 rows x 23 columns]\n"
     ]
    }
   ],
   "source": [
    "print(X_train_L1reg)"
   ]
  },
  {
   "cell_type": "code",
   "execution_count": 115,
   "id": "062cffcc-7fc0-460a-8fc3-231a062ddd2e",
   "metadata": {},
   "outputs": [],
   "source": [
    "X_valid_L1reg = X_valid_scale[selected_columns]"
   ]
  },
  {
   "cell_type": "markdown",
   "id": "853682f7-54fc-4b0a-9456-03f4bba62da6",
   "metadata": {},
   "source": [
    "## Regressors/models"
   ]
  },
  {
   "cell_type": "code",
   "execution_count": null,
   "id": "b9f5bec4-99f2-406b-957f-bdfeabc66b2c",
   "metadata": {},
   "outputs": [],
   "source": [
    "Aim: predict ClaimAmount\n",
    "\n",
    "Approaches:\n",
    "1. Random Forest Regression\n",
    "2. Poisson Regression - assumes ClaimAmount has Poisson distribution\n",
    "3. Tweedie Regression - assums ClaimAmount has Tweedie distribution\n",
    "4. XGBoost Regression - reducing error gradually \n"
   ]
  },
  {
   "cell_type": "markdown",
   "id": "bcaa9f94-f8f4-4d4c-b7dc-b19c96c6e2cd",
   "metadata": {},
   "source": [
    "## Cross-Validation to obtain the optimal set of hyperparameters"
   ]
  },
  {
   "cell_type": "markdown",
   "id": "551d97a1-e266-44ce-8663-273e2985b2d3",
   "metadata": {},
   "source": [
    "RandomForestRegressor\n",
    "\n",
    "    n_estimators represents the number of decision trees that are implemented by the random forest regressor. We will aim to optimise this hyperparameter.\n",
    "    random_state sets the random number seed and is used for reproducibility purposes. Here, we set this value to 1.\n",
    "    n_jobs represents the number of calculations to run in parallel; setting a value of -1 means that all processors will be used.\n"
   ]
  },
  {
   "cell_type": "markdown",
   "id": "5f16930d-3ba3-47a2-a122-e774b385a893",
   "metadata": {},
   "source": [
    "PoissonRegressor\n",
    "\n",
    "    alpha represents the constants that multiplies the penalty term, thus determining the strength of regularisation for the Poisson GLM used. We will aim to optimise this hyperparameter.\n",
    "    max_iter represents the maximal number of iterations for the PoissonRegressor's solver.\n"
   ]
  },
  {
   "cell_type": "markdown",
   "id": "7459cb44-4520-4667-b68e-1966a26d2530",
   "metadata": {},
   "source": [
    "TweedieRegressor\n",
    "\n",
    "    power determines the underlying target value's distribution - using a value between 1 and 2 produces a compound Poisson-Gamma distribution.\n",
    "\n",
    "    As a pure Gamma distribution's probability density is not defined at x=0, we set this value to 1.8 such that the target's compound distribution shows more Gamma form than Poisson. This is another hyperparameter that could potentially be optimised for simultaneously, via grid-search methods.\n",
    "\n",
    "    alpha represents the constants that multiplies the penalty term, thus determining the strength of regularisation for the Tweedie GLM used. We will aim to optimise this hyperparameter.\n",
    "    max_iter represents the maximal number of iterations for the TweedieRegressor's solver.\n"
   ]
  },
  {
   "cell_type": "code",
   "execution_count": null,
   "id": "09ddd8b2-22b1-4c17-b90b-7bcaf940cdba",
   "metadata": {},
   "outputs": [],
   "source": []
  },
  {
   "cell_type": "code",
   "execution_count": 118,
   "id": "bdcd8f1b-9232-46c3-835a-966f75aeda8f",
   "metadata": {},
   "outputs": [],
   "source": [
    "from sklearn.ensemble import RandomForestRegressor\n",
    "from sklearn.linear_model import PoissonRegressor\n",
    "from sklearn.linear_model import TweedieRegressor\n",
    "from xgboost import XGBRegressor\n",
    "\n",
    "# Import the cross_val_score function from sklearn.\n",
    "from sklearn.model_selection import cross_val_score\n"
   ]
  },
  {
   "cell_type": "code",
   "execution_count": 119,
   "id": "b083b898-db2e-4549-994c-f3a5600ba0c7",
   "metadata": {},
   "outputs": [],
   "source": [
    "results_RF = {}\n",
    "results_PGLM = {}\n",
    "results_TGLM = {}\n",
    "results_XGB = {}"
   ]
  },
  {
   "cell_type": "code",
   "execution_count": 120,
   "id": "f4eb8a03-2011-4bee-a557-a70bb7a64fe1",
   "metadata": {},
   "outputs": [],
   "source": [
    "def get_score_RF(n_estimators):\n",
    "    model_RF = RandomForestRegressor(n_estimators=n_estimators, random_state=1, n_jobs=-1)\n",
    "    \n",
    "    scores_RF = -1 * cross_val_score(model_RF, X_train_L1reg, y_train,\n",
    "                              cv=5,\n",
    "                              scoring='neg_mean_absolute_error')\n",
    "\n",
    "    return scores_RF.mean()\n",
    "\n",
    "def get_score_PGLM(alpha):\n",
    "    model_PGLM = PoissonRegressor(alpha=alpha, max_iter=500)\n",
    "    \n",
    "    scores_PGLM = -1 * cross_val_score(model_PGLM, X_train_L1reg, y_train,\n",
    "                                  cv=5,\n",
    "                                  scoring='neg_mean_absolute_error')\n",
    "    \n",
    "    return scores_PGLM.mean()\n",
    "\n",
    "def get_score_TGLM(alpha):\n",
    "    model_TGLM = TweedieRegressor(power=1.8, alpha=alpha, max_iter=500)\n",
    "    \n",
    "    scores_TGLM = -1 * cross_val_score(model_TGLM, X_train_L1reg, y_train,\n",
    "                                  cv=5,\n",
    "                                  scoring='neg_mean_absolute_error')\n",
    "    \n",
    "    return scores_TGLM.mean()\n",
    "\n",
    "def get_score_XGB(n_estimators):\n",
    "    model_XGB = XGBRegressor(n_estimators=n_estimators,\n",
    "                               learning_rate=0.01,\n",
    "                               random_state=1)\n",
    "    \n",
    "    scores_XGB = -1 * cross_val_score(model_XGB, X_train_L1reg, y_train,\n",
    "                                     cv=5,\n",
    "                                     scoring='neg_mean_absolute_error')\n",
    "    \n",
    "    return scores_XGB.mean()"
   ]
  },
  {
   "cell_type": "code",
   "execution_count": 121,
   "id": "c5f78b1b-dfe9-48ef-b2ee-33835231958e",
   "metadata": {},
   "outputs": [
    {
     "name": "stdout",
     "output_type": "stream",
     "text": [
      "results_RF1 recorded\n",
      "results_RF2 recorded\n",
      "results_RF3 recorded\n",
      "results_RF4 recorded\n",
      "results_RF5 recorded\n",
      "results_RF6 recorded\n",
      "results_RF7 recorded\n",
      "results_RF8 recorded\n",
      "RF done\n"
     ]
    }
   ],
   "source": [
    "for i in range(1, 9):\n",
    "    results_RF[100*i] = get_score_RF(100*i)\n",
    "    print(\"results_RF{} recorded\".format(i))\n",
    "\n",
    "print(\"RF done\")"
   ]
  },
  {
   "cell_type": "code",
   "execution_count": 122,
   "id": "1f283817-ab91-4c31-bbd0-9cbeae6a36d0",
   "metadata": {},
   "outputs": [
    {
     "name": "stdout",
     "output_type": "stream",
     "text": [
      "results_PGLM1 recorded\n",
      "results_PGLM2 recorded\n",
      "results_PGLM3 recorded\n",
      "results_PGLM4 recorded\n",
      "results_PGLM5 recorded\n",
      "results_PGLM6 recorded\n",
      "results_PGLM7 recorded\n",
      "results_PGLM8 recorded\n",
      "PGLM done\n"
     ]
    }
   ],
   "source": [
    "for i in range(1, 9):\n",
    "    results_PGLM[round(0.2*i, 2)] = get_score_PGLM(round(0.2*i, 2))\n",
    "    print(\"results_PGLM{} recorded\".format(i))\n",
    "\n",
    "print(\"PGLM done\")"
   ]
  },
  {
   "cell_type": "code",
   "execution_count": 123,
   "id": "028ea36d-8ef3-4368-bca8-ed6039a36f8a",
   "metadata": {},
   "outputs": [
    {
     "name": "stdout",
     "output_type": "stream",
     "text": [
      "results_TGLM1 recorded\n",
      "results_TGLM2 recorded\n",
      "results_TGLM3 recorded\n",
      "results_TGLM4 recorded\n",
      "results_TGLM5 recorded\n",
      "results_TGLM6 recorded\n",
      "results_TGLM7 recorded\n",
      "results_TGLM8 recorded\n",
      "TGLM done\n"
     ]
    }
   ],
   "source": [
    "for i in range(1, 9):\n",
    "    results_TGLM[round(0.01*i, 2)] = get_score_TGLM(round(0.01*i, 2))\n",
    "    print(\"results_TGLM{} recorded\".format(i))\n",
    "\n",
    "print(\"TGLM done\")\n"
   ]
  },
  {
   "cell_type": "code",
   "execution_count": 124,
   "id": "17517f91-f9ee-4f96-81a4-2c6f3d271124",
   "metadata": {},
   "outputs": [
    {
     "name": "stdout",
     "output_type": "stream",
     "text": [
      "results_XGB1 recorded\n",
      "results_XGB2 recorded\n",
      "results_XGB3 recorded\n",
      "results_XGB4 recorded\n",
      "results_XGB5 recorded\n",
      "results_XGB6 recorded\n",
      "results_XGB7 recorded\n",
      "results_XGB8 recorded\n",
      "XGB done\n"
     ]
    }
   ],
   "source": [
    "for i in range(1, 9):\n",
    "    results_XGB[5*i] = get_score_XGB(5*i)\n",
    "    print(\"results_XGB{} recorded\".format(i))\n",
    "    \n",
    "print(\"XGB done\")\n"
   ]
  },
  {
   "cell_type": "markdown",
   "id": "a9414304-a9a9-46d5-9566-89a6a36ad5ff",
   "metadata": {},
   "source": [
    "### Determining the optimal hyperparameters"
   ]
  },
  {
   "cell_type": "code",
   "execution_count": 125,
   "id": "2d784fa8-9850-4091-8f2d-11e1512ea1b4",
   "metadata": {},
   "outputs": [
    {
     "name": "stdout",
     "output_type": "stream",
     "text": [
      "700\n"
     ]
    }
   ],
   "source": [
    "RF_n_estimators_best = min(results_RF, key=results_RF.get)\n",
    "print(RF_n_estimators_best)"
   ]
  },
  {
   "cell_type": "code",
   "execution_count": 126,
   "id": "ef937238-6d8d-4dba-b90d-22c2274aeb8b",
   "metadata": {},
   "outputs": [
    {
     "name": "stdout",
     "output_type": "stream",
     "text": [
      "0.8\n"
     ]
    }
   ],
   "source": [
    "PGLM_alpha_best = min(results_PGLM, key=results_PGLM.get)\n",
    "print(PGLM_alpha_best)"
   ]
  },
  {
   "cell_type": "code",
   "execution_count": 127,
   "id": "c039de93-2294-4413-9335-227cc19d98c7",
   "metadata": {},
   "outputs": [
    {
     "name": "stdout",
     "output_type": "stream",
     "text": [
      "0.04\n"
     ]
    }
   ],
   "source": [
    "TGLM_alpha_best = min(results_TGLM, key=results_TGLM.get)\n",
    "print(TGLM_alpha_best)"
   ]
  },
  {
   "cell_type": "code",
   "execution_count": 128,
   "id": "7d447ccf-e4e7-49e0-a533-92094c2a0566",
   "metadata": {
    "tags": []
   },
   "outputs": [
    {
     "name": "stdout",
     "output_type": "stream",
     "text": [
      "40\n"
     ]
    }
   ],
   "source": [
    "XGB_n_estimators_best = min(results_XGB, key=results_XGB.get)\n",
    "print(XGB_n_estimators_best)"
   ]
  },
  {
   "cell_type": "markdown",
   "id": "5f6f540c-72b7-4be2-a0b3-3f0267f0e8fb",
   "metadata": {},
   "source": [
    "### Train (fit) the models to the entire training dataset"
   ]
  },
  {
   "cell_type": "code",
   "execution_count": 129,
   "id": "c15eaecc-ae6b-429f-a3b3-5b486bdc66bb",
   "metadata": {},
   "outputs": [],
   "source": [
    "model_RF_opt = RandomForestRegressor(n_estimators=RF_n_estimators_best, random_state=1, n_jobs=-1)\n",
    "\n",
    "model_PGLM_opt = PoissonRegressor(alpha=PGLM_alpha_best, max_iter=500)\n",
    "\n",
    "model_TGLM_opt = TweedieRegressor(power=1.8, alpha=TGLM_alpha_best, max_iter=500)\n",
    "\n",
    "model_XGB_opt = XGBRegressor(n_estimators=XGB_n_estimators_best, learning_rate=0.01, random_state=1)"
   ]
  },
  {
   "cell_type": "code",
   "execution_count": 130,
   "id": "84885dff-5913-4d74-ba5e-fd6593e06942",
   "metadata": {},
   "outputs": [
    {
     "name": "stdout",
     "output_type": "stream",
     "text": [
      "model_RF_opt trained\n",
      "model_PGLM_opt trained\n",
      "model_TGLM_opt trained\n",
      "model_XGB_opt trained\n"
     ]
    }
   ],
   "source": [
    "model_RF_opt.fit(X_train_L1reg, y_train)\n",
    "print(\"model_RF_opt trained\")\n",
    "\n",
    "model_PGLM_opt.fit(X_train_L1reg, y_train)\n",
    "print(\"model_PGLM_opt trained\")\n",
    "\n",
    "model_TGLM_opt.fit(X_train_L1reg, y_train)\n",
    "print(\"model_TGLM_opt trained\")\n",
    "\n",
    "model_XGB_opt.fit(X_train_L1reg, y_train)\n",
    "print(\"model_XGB_opt trained\")"
   ]
  },
  {
   "cell_type": "markdown",
   "id": "a4360dc5-1acd-4e2d-9606-e6fdbd96f360",
   "metadata": {
    "tags": []
   },
   "source": [
    "### Generating a unique set of predictions for each model"
   ]
  },
  {
   "cell_type": "code",
   "execution_count": 134,
   "id": "3394eb25-ab92-4fd3-a1da-712a08877377",
   "metadata": {},
   "outputs": [
    {
     "name": "stdout",
     "output_type": "stream",
     "text": [
      "All predictions generated\n"
     ]
    }
   ],
   "source": [
    "preds_RF = model_RF_opt.predict(X_valid_L1reg)\n",
    "preds_PGLM = model_PGLM_opt.predict(X_valid_L1reg)\n",
    "preds_TGLM = model_TGLM_opt.predict(X_valid_L1reg)\n",
    "preds_XGB = model_XGB_opt.predict(X_valid_L1reg)\n",
    "print(\"All predictions generated\")"
   ]
  },
  {
   "cell_type": "markdown",
   "id": "6355f536-cfc3-4668-9cd5-2939f6bb7faa",
   "metadata": {},
   "source": [
    "## Model performance using validation data"
   ]
  },
  {
   "cell_type": "markdown",
   "id": "33d5794b-893d-465e-838b-ff0a2d58c2ba",
   "metadata": {},
   "source": [
    "The 2 options we have are: \n",
    "MAE (Mean Absolute Error)\n",
    "RMSE (Root Mean Squared Error)\n",
    "\n",
    "Calculating RMSE involves squaring each prediction error, which is not optimal in our case as only 3% of all the data is non-zero \n",
    "therefore put exagurated importance on that 3% and the vast majority (96%) will get heavily penalised \n",
    "\n",
    "We will use MAE from sklearn.metrics instead.\n",
    "\n"
   ]
  },
  {
   "cell_type": "code",
   "execution_count": 135,
   "id": "b8b8e641-05bc-44cc-bbc6-11d0d154757c",
   "metadata": {},
   "outputs": [
    {
     "name": "stdout",
     "output_type": "stream",
     "text": [
      "All MAE scores calculated\n"
     ]
    }
   ],
   "source": [
    "from sklearn.metrics import mean_absolute_error\n",
    "\n",
    "MAE_RF = mean_absolute_error(y_valid, preds_RF)\n",
    "MAE_PGLM = mean_absolute_error(y_valid, preds_PGLM)\n",
    "MAE_TGLM = mean_absolute_error(y_valid, preds_TGLM)\n",
    "MAE_XGB = mean_absolute_error(y_valid, preds_XGB)\n",
    "print(\"All MAE scores calculated\")"
   ]
  },
  {
   "cell_type": "code",
   "execution_count": 136,
   "id": "258dcb23-b572-4609-a9e5-7de6d0775eb9",
   "metadata": {},
   "outputs": [
    {
     "name": "stdout",
     "output_type": "stream",
     "text": [
      "{'RF': 95.01813166443816, 'PGLM': 119.47557730348673, 'TGLM': 77.99906852382645, 'XGB': 57.404240598175434}\n"
     ]
    }
   ],
   "source": [
    "MAE_results = {'RF': MAE_RF,\n",
    "                'PGLM': MAE_PGLM,\n",
    "                'TGLM': MAE_TGLM,\n",
    "                'XGB': MAE_XGB}\n",
    "\n",
    "print(MAE_results)"
   ]
  },
  {
   "cell_type": "code",
   "execution_count": 137,
   "id": "659bd45a-e61b-44af-9512-6abc9753bf49",
   "metadata": {},
   "outputs": [
    {
     "name": "stdout",
     "output_type": "stream",
     "text": [
      "XGB\n"
     ]
    }
   ],
   "source": [
    "best_model = min(MAE_results, key=MAE_results.get)\n",
    "print(best_model)"
   ]
  },
  {
   "cell_type": "markdown",
   "id": "f5689e3b-8a08-4157-9788-a2e5d91ecff7",
   "metadata": {},
   "source": [
    "Notes for further improvement:\n",
    "Iteratively refine the model chosen above by continually re-training it such that an optimal fit to test data is achieved"
   ]
  },
  {
   "cell_type": "markdown",
   "id": "c253cf07-cdd7-4126-9218-c507b072cda1",
   "metadata": {},
   "source": [
    "### Review for areas of improvement\n",
    "\n",
    "For example, in terms of the approach teaken to model/predict claim severity:\n",
    "1. In this project, we only considered determining the total loss amount per policyholder based on their risk characteristics,\n",
    "and didnot determine the average loss amount per claim. it may be possible to model this alternate scenario by deriving additional features beforehard\n",
    "eg. max & min ClaimAmounts per policyholder\n",
    "2. We used the nubmer of claims that was provided within the training_test dataset rather than genarting our own predicitons beforehand \n",
    "(i.e.we have skipped the first step in the frequency-severity method of modelling losses) -furthermore, tradtionally we only wish to oreduct the total loss\n",
    "for policyholders who are expected to  make at least 1 claim. As a result, we would only need to use non-zero claim amounts for model training/testing purposes\n",
    "Therefore we could have used Gamma-based GLM in comparison to Tweedie-based GLM instead of Poisson regresor\n",
    "3. Trained data only once (Cross-validation) and tested only once\n"
   ]
  },
  {
   "cell_type": "markdown",
   "id": "006aa792-4a8d-4c06-a98b-27d46dfa64f9",
   "metadata": {},
   "source": [
    "Data pre-processing:\n",
    "1. Better alternatives for hot-encoding\n",
    "eg. We have used one-hot encoding on Gas, Brand, Region, each of these varied in cordinality - using one-hot encoding is generally not recommended for categories of high cardinality (eg. Region)"
   ]
  },
  {
   "cell_type": "markdown",
   "id": "8b666e2c-9821-4b10-bdcd-2750e30a536e",
   "metadata": {},
   "source": [
    "Hyperparameter optimisation:\n",
    "1. Perform hyperparameter optimisation via grid-seach methods, in order to iterate through all parameter values with global minimum of its hyperdimensional loss function surface\n",
    "instead of optimising a single parameter whilst holding all other parameters constsant as shown earlier above. Result: optmised set of models that correspond\n",
    "with the global minima of their respective loss surfaces\n",
    "2. GridSeachCV() with sklearn.model_selection:\n",
    " 2.1 estimator - model name\n",
    "     param_grid - dictionary of param names/settings\n",
    "     scoring - scoring method that we wish to use n order to measure the perforamnce of each model iteration for each set of hyperparameters for example (neg_mean_absolute_error)"
   ]
  },
  {
   "cell_type": "markdown",
   "id": "9215b128-272b-4dbc-8cb6-3f497db40757",
   "metadata": {},
   "source": [
    "Feature Selection\n",
    "1. More stingent feature selection could be performed in order to further reduce the number of features that are supplied\n",
    "to each model during the trainin gprocess, in order to reduce the likelihood of overfittin gto the training dataset as a result\n",
    "2. Can be done by increasing the value of alpha wthing the Lasso/L1 regularisation model, in order to restrict the number\n",
    "of features the are kept with non zeero coefficients within the regression model - however this would likely require an additional hyperparameter \n",
    "optimisation exercise of teh L1 regulation model iteself, in order to establish a suitable compromise between being able to fit the data's features/trends and \n",
    "being able to generlise the unseen data as well "
   ]
  },
  {
   "cell_type": "code",
   "execution_count": null,
   "id": "f9ba70b7-5797-4059-938a-0cd3cad6016b",
   "metadata": {},
   "outputs": [],
   "source": []
  }
 ],
 "metadata": {
  "kernelspec": {
   "display_name": "Python 3 (ipykernel)",
   "language": "python",
   "name": "python3"
  },
  "language_info": {
   "codemirror_mode": {
    "name": "ipython",
    "version": 3
   },
   "file_extension": ".py",
   "mimetype": "text/x-python",
   "name": "python",
   "nbconvert_exporter": "python",
   "pygments_lexer": "ipython3",
   "version": "3.9.16"
  }
 },
 "nbformat": 4,
 "nbformat_minor": 5
}
